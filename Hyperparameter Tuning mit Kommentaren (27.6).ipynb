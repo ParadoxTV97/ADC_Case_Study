{
 "cells": [
  {
   "cell_type": "markdown",
   "metadata": {},
   "source": [
    "# Hyperparameter Tuning "
   ]
  },
  {
   "cell_type": "code",
   "execution_count": 1,
   "metadata": {},
   "outputs": [],
   "source": [
    "#Import notwendiger libraries\n",
    "import numpy as np\n",
    "import pandas as pd \n",
    "import matplotlib.pyplot as plt\n",
    "%matplotlib inline \n",
    "import seaborn as sns \n",
    "import math\n",
    "\n",
    "import os \n",
    "import warnings\n",
    "warnings.filterwarnings('ignore')\n",
    "\n",
    "#Import des Panel-Datensatzes \n",
    "data_lgd = pd.read_csv('LGD_Panel.csv')"
   ]
  },
  {
   "cell_type": "code",
   "execution_count": 2,
   "metadata": {},
   "outputs": [
    {
     "name": "stdout",
     "output_type": "stream",
     "text": [
      "<class 'pandas.core.frame.DataFrame'>\n",
      "RangeIndex: 62178 entries, 0 to 62177\n",
      "Data columns (total 28 columns):\n",
      " #   Column                   Non-Null Count  Dtype  \n",
      "---  ------                   --------------  -----  \n",
      " 0   id                       62178 non-null  int64  \n",
      " 1   time                     62178 non-null  int64  \n",
      " 2   orig_time                62178 non-null  int64  \n",
      " 3   first_time               62178 non-null  int64  \n",
      " 4   mat_time                 62178 non-null  int64  \n",
      " 5   res_time                 1160 non-null   float64\n",
      " 6   balance_time             62178 non-null  float64\n",
      " 7   LTV_time                 62153 non-null  float64\n",
      " 8   interest_rate_time       62178 non-null  float64\n",
      " 9   rate_time                62178 non-null  float64\n",
      " 10  hpi_time                 62178 non-null  float64\n",
      " 11  gdp_time                 62178 non-null  float64\n",
      " 12  uer_time                 62178 non-null  float64\n",
      " 13  REtype_CO_orig_time      62178 non-null  int64  \n",
      " 14  REtype_PU_orig_time      62178 non-null  int64  \n",
      " 15  REtype_SF_orig_time      62178 non-null  int64  \n",
      " 16  investor_orig_time       62178 non-null  int64  \n",
      " 17  balance_orig_time        62178 non-null  float64\n",
      " 18  FICO_orig_time           62178 non-null  int64  \n",
      " 19  LTV_orig_time            62178 non-null  float64\n",
      " 20  Interest_Rate_orig_time  62178 non-null  float64\n",
      " 21  state_orig_time          61828 non-null  object \n",
      " 22  hpi_orig_time            62178 non-null  float64\n",
      " 23  default_time             62178 non-null  int64  \n",
      " 24  payoff_time              62178 non-null  int64  \n",
      " 25  status_time              62178 non-null  int64  \n",
      " 26  lgd_time                 1525 non-null   float64\n",
      " 27  recovery_res             1525 non-null   float64\n",
      "dtypes: float64(14), int64(13), object(1)\n",
      "memory usage: 13.3+ MB\n",
      "None\n"
     ]
    }
   ],
   "source": [
    "#Bestimmung von Datentypen \n",
    "print(data_lgd.info())"
   ]
  },
  {
   "cell_type": "code",
   "execution_count": 3,
   "metadata": {},
   "outputs": [
    {
     "name": "stdout",
     "output_type": "stream",
     "text": [
      "columns with null values:\n",
      " id                             0\n",
      "time                           0\n",
      "orig_time                      0\n",
      "first_time                     0\n",
      "mat_time                       0\n",
      "res_time                   61018\n",
      "balance_time                   0\n",
      "LTV_time                      25\n",
      "interest_rate_time             0\n",
      "rate_time                      0\n",
      "hpi_time                       0\n",
      "gdp_time                       0\n",
      "uer_time                       0\n",
      "REtype_CO_orig_time            0\n",
      "REtype_PU_orig_time            0\n",
      "REtype_SF_orig_time            0\n",
      "investor_orig_time             0\n",
      "balance_orig_time              0\n",
      "FICO_orig_time                 0\n",
      "LTV_orig_time                  0\n",
      "Interest_Rate_orig_time        0\n",
      "state_orig_time              350\n",
      "hpi_orig_time                  0\n",
      "default_time                   0\n",
      "payoff_time                    0\n",
      "status_time                    0\n",
      "lgd_time                   60653\n",
      "recovery_res               60653\n",
      "dtype: int64\n",
      "---------------------------------\n"
     ]
    }
   ],
   "source": [
    "#Darstellen der Features mit NaN in Trainings- und Testset  \n",
    "print('columns with null values:\\n', data_lgd.isnull().sum())\n",
    "print('-'*33)"
   ]
  },
  {
   "cell_type": "code",
   "execution_count": 4,
   "metadata": {},
   "outputs": [
    {
     "data": {
      "text/html": [
       "<div>\n",
       "<style scoped>\n",
       "    .dataframe tbody tr th:only-of-type {\n",
       "        vertical-align: middle;\n",
       "    }\n",
       "\n",
       "    .dataframe tbody tr th {\n",
       "        vertical-align: top;\n",
       "    }\n",
       "\n",
       "    .dataframe thead th {\n",
       "        text-align: right;\n",
       "    }\n",
       "</style>\n",
       "<table border=\"1\" class=\"dataframe\">\n",
       "  <thead>\n",
       "    <tr style=\"text-align: right;\">\n",
       "      <th></th>\n",
       "      <th>id</th>\n",
       "      <th>time</th>\n",
       "      <th>orig_time</th>\n",
       "      <th>first_time</th>\n",
       "      <th>mat_time</th>\n",
       "      <th>res_time</th>\n",
       "      <th>balance_time</th>\n",
       "      <th>LTV_time</th>\n",
       "      <th>interest_rate_time</th>\n",
       "      <th>rate_time</th>\n",
       "      <th>...</th>\n",
       "      <th>balance_orig_time</th>\n",
       "      <th>FICO_orig_time</th>\n",
       "      <th>LTV_orig_time</th>\n",
       "      <th>Interest_Rate_orig_time</th>\n",
       "      <th>hpi_orig_time</th>\n",
       "      <th>default_time</th>\n",
       "      <th>payoff_time</th>\n",
       "      <th>status_time</th>\n",
       "      <th>lgd_time</th>\n",
       "      <th>recovery_res</th>\n",
       "    </tr>\n",
       "  </thead>\n",
       "  <tbody>\n",
       "    <tr>\n",
       "      <th>count</th>\n",
       "      <td>62178.000000</td>\n",
       "      <td>62178.000000</td>\n",
       "      <td>62178.000000</td>\n",
       "      <td>62178.000000</td>\n",
       "      <td>62178.000000</td>\n",
       "      <td>1160.000000</td>\n",
       "      <td>6.217800e+04</td>\n",
       "      <td>62153.000000</td>\n",
       "      <td>62178.000000</td>\n",
       "      <td>62178.000000</td>\n",
       "      <td>...</td>\n",
       "      <td>6.217800e+04</td>\n",
       "      <td>62178.000000</td>\n",
       "      <td>62178.000000</td>\n",
       "      <td>62178.000000</td>\n",
       "      <td>62178.000000</td>\n",
       "      <td>62178.000000</td>\n",
       "      <td>62178.000000</td>\n",
       "      <td>62178.000000</td>\n",
       "      <td>1525.000000</td>\n",
       "      <td>1.525000e+03</td>\n",
       "    </tr>\n",
       "    <tr>\n",
       "      <th>mean</th>\n",
       "      <td>25371.293528</td>\n",
       "      <td>35.877979</td>\n",
       "      <td>20.688218</td>\n",
       "      <td>24.649185</td>\n",
       "      <td>137.722651</td>\n",
       "      <td>40.711207</td>\n",
       "      <td>2.448294e+05</td>\n",
       "      <td>83.320156</td>\n",
       "      <td>6.663767</td>\n",
       "      <td>4.516695</td>\n",
       "      <td>...</td>\n",
       "      <td>2.545839e+05</td>\n",
       "      <td>673.357200</td>\n",
       "      <td>78.702839</td>\n",
       "      <td>5.600969</td>\n",
       "      <td>198.501593</td>\n",
       "      <td>0.024526</td>\n",
       "      <td>0.042218</td>\n",
       "      <td>0.108961</td>\n",
       "      <td>0.495982</td>\n",
       "      <td>1.324083e+05</td>\n",
       "    </tr>\n",
       "    <tr>\n",
       "      <th>std</th>\n",
       "      <td>13737.375198</td>\n",
       "      <td>11.652381</td>\n",
       "      <td>7.377185</td>\n",
       "      <td>6.838495</td>\n",
       "      <td>19.016813</td>\n",
       "      <td>9.276421</td>\n",
       "      <td>2.089384e+05</td>\n",
       "      <td>28.106665</td>\n",
       "      <td>2.100772</td>\n",
       "      <td>0.513379</td>\n",
       "      <td>...</td>\n",
       "      <td>2.115463e+05</td>\n",
       "      <td>72.100064</td>\n",
       "      <td>10.243045</td>\n",
       "      <td>2.985547</td>\n",
       "      <td>33.758503</td>\n",
       "      <td>0.154678</td>\n",
       "      <td>0.201087</td>\n",
       "      <td>0.426060</td>\n",
       "      <td>0.381771</td>\n",
       "      <td>1.501463e+05</td>\n",
       "    </tr>\n",
       "    <tr>\n",
       "      <th>min</th>\n",
       "      <td>4.000000</td>\n",
       "      <td>1.000000</td>\n",
       "      <td>-40.000000</td>\n",
       "      <td>1.000000</td>\n",
       "      <td>18.000000</td>\n",
       "      <td>7.000000</td>\n",
       "      <td>0.000000e+00</td>\n",
       "      <td>0.000000</td>\n",
       "      <td>0.000000</td>\n",
       "      <td>1.650000</td>\n",
       "      <td>...</td>\n",
       "      <td>0.000000e+00</td>\n",
       "      <td>429.000000</td>\n",
       "      <td>50.100000</td>\n",
       "      <td>0.000000</td>\n",
       "      <td>75.730000</td>\n",
       "      <td>0.000000</td>\n",
       "      <td>0.000000</td>\n",
       "      <td>0.000000</td>\n",
       "      <td>0.000000</td>\n",
       "      <td>-1.909486e+05</td>\n",
       "    </tr>\n",
       "    <tr>\n",
       "      <th>25%</th>\n",
       "      <td>13711.250000</td>\n",
       "      <td>28.000000</td>\n",
       "      <td>18.000000</td>\n",
       "      <td>21.000000</td>\n",
       "      <td>137.000000</td>\n",
       "      <td>35.000000</td>\n",
       "      <td>1.008911e+05</td>\n",
       "      <td>67.056456</td>\n",
       "      <td>5.625000</td>\n",
       "      <td>4.240000</td>\n",
       "      <td>...</td>\n",
       "      <td>1.075000e+05</td>\n",
       "      <td>628.000000</td>\n",
       "      <td>75.000000</td>\n",
       "      <td>4.875000</td>\n",
       "      <td>186.910000</td>\n",
       "      <td>0.000000</td>\n",
       "      <td>0.000000</td>\n",
       "      <td>0.000000</td>\n",
       "      <td>0.104600</td>\n",
       "      <td>3.644842e+04</td>\n",
       "    </tr>\n",
       "    <tr>\n",
       "      <th>50%</th>\n",
       "      <td>25572.000000</td>\n",
       "      <td>34.000000</td>\n",
       "      <td>22.000000</td>\n",
       "      <td>25.000000</td>\n",
       "      <td>142.000000</td>\n",
       "      <td>40.000000</td>\n",
       "      <td>1.809344e+05</td>\n",
       "      <td>82.256173</td>\n",
       "      <td>6.625000</td>\n",
       "      <td>4.600000</td>\n",
       "      <td>...</td>\n",
       "      <td>1.880000e+05</td>\n",
       "      <td>675.000000</td>\n",
       "      <td>80.000000</td>\n",
       "      <td>6.250000</td>\n",
       "      <td>216.770000</td>\n",
       "      <td>0.000000</td>\n",
       "      <td>0.000000</td>\n",
       "      <td>0.000000</td>\n",
       "      <td>0.514654</td>\n",
       "      <td>8.948393e+04</td>\n",
       "    </tr>\n",
       "    <tr>\n",
       "      <th>75%</th>\n",
       "      <td>37326.000000</td>\n",
       "      <td>44.000000</td>\n",
       "      <td>25.000000</td>\n",
       "      <td>28.000000</td>\n",
       "      <td>145.000000</td>\n",
       "      <td>47.000000</td>\n",
       "      <td>3.337000e+05</td>\n",
       "      <td>100.766023</td>\n",
       "      <td>7.820000</td>\n",
       "      <td>4.710000</td>\n",
       "      <td>...</td>\n",
       "      <td>3.500000e+05</td>\n",
       "      <td>730.000000</td>\n",
       "      <td>80.000000</td>\n",
       "      <td>7.388000</td>\n",
       "      <td>223.750000</td>\n",
       "      <td>0.000000</td>\n",
       "      <td>0.000000</td>\n",
       "      <td>0.000000</td>\n",
       "      <td>0.768253</td>\n",
       "      <td>1.832579e+05</td>\n",
       "    </tr>\n",
       "    <tr>\n",
       "      <th>max</th>\n",
       "      <td>49972.000000</td>\n",
       "      <td>60.000000</td>\n",
       "      <td>60.000000</td>\n",
       "      <td>60.000000</td>\n",
       "      <td>229.000000</td>\n",
       "      <td>60.000000</td>\n",
       "      <td>3.106990e+06</td>\n",
       "      <td>803.513550</td>\n",
       "      <td>37.500000</td>\n",
       "      <td>8.650000</td>\n",
       "      <td>...</td>\n",
       "      <td>3.107000e+06</td>\n",
       "      <td>819.000000</td>\n",
       "      <td>119.800000</td>\n",
       "      <td>15.000000</td>\n",
       "      <td>226.290000</td>\n",
       "      <td>1.000000</td>\n",
       "      <td>1.000000</td>\n",
       "      <td>2.000000</td>\n",
       "      <td>2.022767</td>\n",
       "      <td>1.518109e+06</td>\n",
       "    </tr>\n",
       "  </tbody>\n",
       "</table>\n",
       "<p>8 rows × 27 columns</p>\n",
       "</div>"
      ],
      "text/plain": [
       "                 id          time     orig_time    first_time      mat_time  \\\n",
       "count  62178.000000  62178.000000  62178.000000  62178.000000  62178.000000   \n",
       "mean   25371.293528     35.877979     20.688218     24.649185    137.722651   \n",
       "std    13737.375198     11.652381      7.377185      6.838495     19.016813   \n",
       "min        4.000000      1.000000    -40.000000      1.000000     18.000000   \n",
       "25%    13711.250000     28.000000     18.000000     21.000000    137.000000   \n",
       "50%    25572.000000     34.000000     22.000000     25.000000    142.000000   \n",
       "75%    37326.000000     44.000000     25.000000     28.000000    145.000000   \n",
       "max    49972.000000     60.000000     60.000000     60.000000    229.000000   \n",
       "\n",
       "          res_time  balance_time      LTV_time  interest_rate_time  \\\n",
       "count  1160.000000  6.217800e+04  62153.000000        62178.000000   \n",
       "mean     40.711207  2.448294e+05     83.320156            6.663767   \n",
       "std       9.276421  2.089384e+05     28.106665            2.100772   \n",
       "min       7.000000  0.000000e+00      0.000000            0.000000   \n",
       "25%      35.000000  1.008911e+05     67.056456            5.625000   \n",
       "50%      40.000000  1.809344e+05     82.256173            6.625000   \n",
       "75%      47.000000  3.337000e+05    100.766023            7.820000   \n",
       "max      60.000000  3.106990e+06    803.513550           37.500000   \n",
       "\n",
       "          rate_time  ...  balance_orig_time  FICO_orig_time  LTV_orig_time  \\\n",
       "count  62178.000000  ...       6.217800e+04    62178.000000   62178.000000   \n",
       "mean       4.516695  ...       2.545839e+05      673.357200      78.702839   \n",
       "std        0.513379  ...       2.115463e+05       72.100064      10.243045   \n",
       "min        1.650000  ...       0.000000e+00      429.000000      50.100000   \n",
       "25%        4.240000  ...       1.075000e+05      628.000000      75.000000   \n",
       "50%        4.600000  ...       1.880000e+05      675.000000      80.000000   \n",
       "75%        4.710000  ...       3.500000e+05      730.000000      80.000000   \n",
       "max        8.650000  ...       3.107000e+06      819.000000     119.800000   \n",
       "\n",
       "       Interest_Rate_orig_time  hpi_orig_time  default_time   payoff_time  \\\n",
       "count             62178.000000   62178.000000  62178.000000  62178.000000   \n",
       "mean                  5.600969     198.501593      0.024526      0.042218   \n",
       "std                   2.985547      33.758503      0.154678      0.201087   \n",
       "min                   0.000000      75.730000      0.000000      0.000000   \n",
       "25%                   4.875000     186.910000      0.000000      0.000000   \n",
       "50%                   6.250000     216.770000      0.000000      0.000000   \n",
       "75%                   7.388000     223.750000      0.000000      0.000000   \n",
       "max                  15.000000     226.290000      1.000000      1.000000   \n",
       "\n",
       "        status_time     lgd_time  recovery_res  \n",
       "count  62178.000000  1525.000000  1.525000e+03  \n",
       "mean       0.108961     0.495982  1.324083e+05  \n",
       "std        0.426060     0.381771  1.501463e+05  \n",
       "min        0.000000     0.000000 -1.909486e+05  \n",
       "25%        0.000000     0.104600  3.644842e+04  \n",
       "50%        0.000000     0.514654  8.948393e+04  \n",
       "75%        0.000000     0.768253  1.832579e+05  \n",
       "max        2.000000     2.022767  1.518109e+06  \n",
       "\n",
       "[8 rows x 27 columns]"
      ]
     },
     "execution_count": 4,
     "metadata": {},
     "output_type": "execute_result"
    }
   ],
   "source": [
    "#Überblick über wichtige Kennzahlen des Trainings- und Testsets\n",
    "data_lgd.describe()"
   ]
  },
  {
   "cell_type": "code",
   "execution_count": 5,
   "metadata": {},
   "outputs": [
    {
     "data": {
      "text/html": [
       "<div>\n",
       "<style scoped>\n",
       "    .dataframe tbody tr th:only-of-type {\n",
       "        vertical-align: middle;\n",
       "    }\n",
       "\n",
       "    .dataframe tbody tr th {\n",
       "        vertical-align: top;\n",
       "    }\n",
       "\n",
       "    .dataframe thead th {\n",
       "        text-align: right;\n",
       "    }\n",
       "</style>\n",
       "<table border=\"1\" class=\"dataframe\">\n",
       "  <thead>\n",
       "    <tr style=\"text-align: right;\">\n",
       "      <th></th>\n",
       "      <th>id</th>\n",
       "      <th>time</th>\n",
       "      <th>orig_time</th>\n",
       "      <th>first_time</th>\n",
       "      <th>mat_time</th>\n",
       "      <th>res_time</th>\n",
       "      <th>balance_time</th>\n",
       "      <th>LTV_time</th>\n",
       "      <th>interest_rate_time</th>\n",
       "      <th>rate_time</th>\n",
       "      <th>...</th>\n",
       "      <th>FICO_orig_time</th>\n",
       "      <th>LTV_orig_time</th>\n",
       "      <th>Interest_Rate_orig_time</th>\n",
       "      <th>state_orig_time</th>\n",
       "      <th>hpi_orig_time</th>\n",
       "      <th>default_time</th>\n",
       "      <th>payoff_time</th>\n",
       "      <th>status_time</th>\n",
       "      <th>lgd_time</th>\n",
       "      <th>recovery_res</th>\n",
       "    </tr>\n",
       "  </thead>\n",
       "  <tbody>\n",
       "    <tr>\n",
       "      <th>263</th>\n",
       "      <td>191</td>\n",
       "      <td>31</td>\n",
       "      <td>23</td>\n",
       "      <td>26</td>\n",
       "      <td>143</td>\n",
       "      <td>38.0</td>\n",
       "      <td>223884.74</td>\n",
       "      <td>87.176730</td>\n",
       "      <td>7.360</td>\n",
       "      <td>4.39</td>\n",
       "      <td>...</td>\n",
       "      <td>630</td>\n",
       "      <td>80.0</td>\n",
       "      <td>7.360</td>\n",
       "      <td>FL</td>\n",
       "      <td>221.91</td>\n",
       "      <td>1</td>\n",
       "      <td>0</td>\n",
       "      <td>1</td>\n",
       "      <td>0.883919</td>\n",
       "      <td>25988.76</td>\n",
       "    </tr>\n",
       "    <tr>\n",
       "      <th>356</th>\n",
       "      <td>330</td>\n",
       "      <td>33</td>\n",
       "      <td>27</td>\n",
       "      <td>28</td>\n",
       "      <td>147</td>\n",
       "      <td>43.0</td>\n",
       "      <td>144374.85</td>\n",
       "      <td>98.272701</td>\n",
       "      <td>9.045</td>\n",
       "      <td>4.71</td>\n",
       "      <td>...</td>\n",
       "      <td>613</td>\n",
       "      <td>80.0</td>\n",
       "      <td>9.045</td>\n",
       "      <td>FL</td>\n",
       "      <td>222.39</td>\n",
       "      <td>1</td>\n",
       "      <td>0</td>\n",
       "      <td>1</td>\n",
       "      <td>1.236213</td>\n",
       "      <td>-34103.22</td>\n",
       "    </tr>\n",
       "    <tr>\n",
       "      <th>360</th>\n",
       "      <td>331</td>\n",
       "      <td>31</td>\n",
       "      <td>26</td>\n",
       "      <td>28</td>\n",
       "      <td>147</td>\n",
       "      <td>60.0</td>\n",
       "      <td>285484.83</td>\n",
       "      <td>89.452618</td>\n",
       "      <td>10.620</td>\n",
       "      <td>4.64</td>\n",
       "      <td>...</td>\n",
       "      <td>605</td>\n",
       "      <td>80.0</td>\n",
       "      <td>10.620</td>\n",
       "      <td>FL</td>\n",
       "      <td>225.10</td>\n",
       "      <td>1</td>\n",
       "      <td>0</td>\n",
       "      <td>1</td>\n",
       "      <td>0.706870</td>\n",
       "      <td>83684.11</td>\n",
       "    </tr>\n",
       "    <tr>\n",
       "      <th>372</th>\n",
       "      <td>343</td>\n",
       "      <td>42</td>\n",
       "      <td>27</td>\n",
       "      <td>32</td>\n",
       "      <td>148</td>\n",
       "      <td>44.0</td>\n",
       "      <td>79140.44</td>\n",
       "      <td>121.463371</td>\n",
       "      <td>8.870</td>\n",
       "      <td>4.71</td>\n",
       "      <td>...</td>\n",
       "      <td>633</td>\n",
       "      <td>90.0</td>\n",
       "      <td>8.870</td>\n",
       "      <td>MD</td>\n",
       "      <td>222.39</td>\n",
       "      <td>1</td>\n",
       "      <td>0</td>\n",
       "      <td>1</td>\n",
       "      <td>1.077359</td>\n",
       "      <td>-6122.26</td>\n",
       "    </tr>\n",
       "    <tr>\n",
       "      <th>420</th>\n",
       "      <td>385</td>\n",
       "      <td>39</td>\n",
       "      <td>28</td>\n",
       "      <td>32</td>\n",
       "      <td>88</td>\n",
       "      <td>41.0</td>\n",
       "      <td>150074.42</td>\n",
       "      <td>122.611681</td>\n",
       "      <td>9.820</td>\n",
       "      <td>4.65</td>\n",
       "      <td>...</td>\n",
       "      <td>584</td>\n",
       "      <td>95.0</td>\n",
       "      <td>9.820</td>\n",
       "      <td>TX</td>\n",
       "      <td>219.67</td>\n",
       "      <td>1</td>\n",
       "      <td>0</td>\n",
       "      <td>1</td>\n",
       "      <td>0.351805</td>\n",
       "      <td>97277.45</td>\n",
       "    </tr>\n",
       "  </tbody>\n",
       "</table>\n",
       "<p>5 rows × 28 columns</p>\n",
       "</div>"
      ],
      "text/plain": [
       "      id  time  orig_time  first_time  mat_time  res_time  balance_time  \\\n",
       "263  191    31         23          26       143      38.0     223884.74   \n",
       "356  330    33         27          28       147      43.0     144374.85   \n",
       "360  331    31         26          28       147      60.0     285484.83   \n",
       "372  343    42         27          32       148      44.0      79140.44   \n",
       "420  385    39         28          32        88      41.0     150074.42   \n",
       "\n",
       "       LTV_time  interest_rate_time  rate_time  ...  FICO_orig_time  \\\n",
       "263   87.176730               7.360       4.39  ...             630   \n",
       "356   98.272701               9.045       4.71  ...             613   \n",
       "360   89.452618              10.620       4.64  ...             605   \n",
       "372  121.463371               8.870       4.71  ...             633   \n",
       "420  122.611681               9.820       4.65  ...             584   \n",
       "\n",
       "     LTV_orig_time  Interest_Rate_orig_time  state_orig_time  hpi_orig_time  \\\n",
       "263           80.0                    7.360               FL         221.91   \n",
       "356           80.0                    9.045               FL         222.39   \n",
       "360           80.0                   10.620               FL         225.10   \n",
       "372           90.0                    8.870               MD         222.39   \n",
       "420           95.0                    9.820               TX         219.67   \n",
       "\n",
       "     default_time  payoff_time  status_time  lgd_time  recovery_res  \n",
       "263             1            0            1  0.883919      25988.76  \n",
       "356             1            0            1  1.236213     -34103.22  \n",
       "360             1            0            1  0.706870      83684.11  \n",
       "372             1            0            1  1.077359      -6122.26  \n",
       "420             1            0            1  0.351805      97277.45  \n",
       "\n",
       "[5 rows x 28 columns]"
      ]
     },
     "execution_count": 5,
     "metadata": {},
     "output_type": "execute_result"
    }
   ],
   "source": [
    "#Beschränken des Datensets auf Schuldner, deren Kredit ausgefallen ist\n",
    "data_lgd = data_lgd[data_lgd['default_time'] == 1]\n",
    "data_lgd_new = data_lgd.dropna(subset = ['res_time'])\n",
    "data_lgd_new.head()"
   ]
  },
  {
   "cell_type": "code",
   "execution_count": 6,
   "metadata": {},
   "outputs": [
    {
     "name": "stdout",
     "output_type": "stream",
     "text": [
      "id                         0\n",
      "time                       0\n",
      "orig_time                  0\n",
      "first_time                 0\n",
      "mat_time                   0\n",
      "res_time                   0\n",
      "balance_time               0\n",
      "LTV_time                   0\n",
      "interest_rate_time         0\n",
      "rate_time                  0\n",
      "hpi_time                   0\n",
      "gdp_time                   0\n",
      "uer_time                   0\n",
      "REtype_CO_orig_time        0\n",
      "REtype_PU_orig_time        0\n",
      "REtype_SF_orig_time        0\n",
      "investor_orig_time         0\n",
      "balance_orig_time          0\n",
      "FICO_orig_time             0\n",
      "LTV_orig_time              0\n",
      "Interest_Rate_orig_time    0\n",
      "state_orig_time            5\n",
      "hpi_orig_time              0\n",
      "default_time               0\n",
      "payoff_time                0\n",
      "status_time                0\n",
      "lgd_time                   0\n",
      "recovery_res               0\n",
      "dtype: int64\n",
      "---------------------------------\n",
      "(1160, 28)\n"
     ]
    }
   ],
   "source": [
    "#Anzahl der null values nach erster Beschränkung des Datensets\n",
    "print(data_lgd_new.isnull().sum())\n",
    "print('-'*33)\n",
    "print(data_lgd_new.shape)"
   ]
  },
  {
   "cell_type": "code",
   "execution_count": 7,
   "metadata": {},
   "outputs": [
    {
     "name": "stdout",
     "output_type": "stream",
     "text": [
      "id                         0\n",
      "time                       0\n",
      "orig_time                  0\n",
      "first_time                 0\n",
      "mat_time                   0\n",
      "res_time                   0\n",
      "balance_time               0\n",
      "LTV_time                   0\n",
      "interest_rate_time         0\n",
      "rate_time                  0\n",
      "hpi_time                   0\n",
      "gdp_time                   0\n",
      "uer_time                   0\n",
      "REtype_CO_orig_time        0\n",
      "REtype_PU_orig_time        0\n",
      "REtype_SF_orig_time        0\n",
      "investor_orig_time         0\n",
      "balance_orig_time          0\n",
      "FICO_orig_time             0\n",
      "LTV_orig_time              0\n",
      "Interest_Rate_orig_time    0\n",
      "state_orig_time            0\n",
      "hpi_orig_time              0\n",
      "default_time               0\n",
      "payoff_time                0\n",
      "status_time                0\n",
      "lgd_time                   0\n",
      "recovery_res               0\n",
      "dtype: int64\n",
      "(1155, 28)\n"
     ]
    }
   ],
   "source": [
    "#Entfernen der NaN in 'state_orig_time'\n",
    "data_lgd_new = data_lgd_new.dropna(subset = ['state_orig_time'])\n",
    "\n",
    "print(data_lgd_new.isnull().sum())\n",
    "print(data_lgd_new.shape)"
   ]
  },
  {
   "cell_type": "code",
   "execution_count": 8,
   "metadata": {},
   "outputs": [],
   "source": [
    "#Entwickeln neuer Features\n",
    "data_lgd_new.loc[:, \"res_duration\"] = data_lgd_new.loc[:, \"res_time\"] - data_lgd_new.loc[:, 'time']\n",
    "data_lgd_new.loc[:, \"planned_lifetime\"] = data_lgd_new.loc[:, \"mat_time\"] - data_lgd_new.loc[:, \"orig_time\"]\n",
    "data_lgd_new.loc[:, \"realized_lifetime\"] = data_lgd_new.loc[:, \"time\"] - data_lgd_new.loc[:, \"orig_time\"]\n",
    "data_lgd_new.loc[:, \"rel_realized_lifetime\"] = data_lgd_new.loc[:, \"realized_lifetime\"] / data_lgd_new.loc[:, \"planned_lifetime\"]\n",
    "data_lgd_new.loc[:, \"remaining_lifetime\"] = data_lgd_new.loc[:, \"planned_lifetime\"] - data_lgd_new.loc[:, \"realized_lifetime\"]\n",
    "data_lgd_new.loc[:, \"diff_LTV\"] = data_lgd_new.loc[:, \"LTV_time\"] - data_lgd_new.loc[:, \"LTV_orig_time\"]\n",
    "data_lgd_new.loc[:, \"rel_diff_LTV\"] = data_lgd_new.loc[:, \"LTV_time\"] / data_lgd_new.loc[:, \"LTV_orig_time\"]\n",
    "data_lgd_new.loc[:, \"diff_hpi\"] = data_lgd_new.loc[:, \"hpi_time\"] - data_lgd_new.loc[:, \"hpi_orig_time\"]\n",
    "data_lgd_new.loc[:, \"rel_diff_hpi\"] = data_lgd_new.loc[:, \"hpi_time\"] / data_lgd_new.loc[:, \"hpi_orig_time\"]\n",
    "data_lgd_new.loc[:, \"diff_interest_rate\"] = data_lgd_new.loc[:, \"interest_rate_time\"] - data_lgd_new.loc[:, \"Interest_Rate_orig_time\"]\n",
    "data_lgd_new.loc[:, \"rel_diff_interest_rate\"] = data_lgd_new.loc[:, \"interest_rate_time\"] / data_lgd_new.loc[:, \"Interest_Rate_orig_time\"]\n"
   ]
  },
  {
   "cell_type": "code",
   "execution_count": 9,
   "metadata": {},
   "outputs": [],
   "source": [
    "state_dummies = pd.get_dummies(data_lgd_new['state_orig_time'])\n",
    "data_lgd_new = pd.concat([data_lgd_new, state_dummies], axis = 1)"
   ]
  },
  {
   "cell_type": "code",
   "execution_count": 10,
   "metadata": {},
   "outputs": [
    {
     "name": "stdout",
     "output_type": "stream",
     "text": [
      "CA    281\n",
      "FL    158\n",
      "AZ     54\n",
      "TX     52\n",
      "NV     50\n",
      "GA     49\n",
      "MI     41\n",
      "IL     39\n",
      "OH     37\n",
      "WA     30\n",
      "VA     27\n",
      "MD     26\n",
      "MN     25\n",
      "MO     23\n",
      "CO     23\n",
      "NY     19\n",
      "NC     17\n",
      "IN     16\n",
      "MA     16\n",
      "TN     16\n",
      "OR     16\n",
      "NJ     16\n",
      "SC     11\n",
      "LA     10\n",
      "AL      9\n",
      "PA      9\n",
      "UT      8\n",
      "CT      8\n",
      "OK      7\n",
      "ME      7\n",
      "WI      6\n",
      "MS      6\n",
      "IA      5\n",
      "HI      4\n",
      "KY      4\n",
      "KS      3\n",
      "ID      3\n",
      "DC      3\n",
      "DE      3\n",
      "NH      3\n",
      "NM      3\n",
      "NE      2\n",
      "WV      2\n",
      "AR      2\n",
      "PR      1\n",
      "WY      1\n",
      "MT      1\n",
      "AK      1\n",
      "RI      1\n",
      "SD      1\n",
      "Name: state_orig_time, dtype: int64\n"
     ]
    }
   ],
   "source": [
    "defaults_state = data_lgd_new['state_orig_time'].value_counts()\n",
    "print(defaults_state)"
   ]
  },
  {
   "cell_type": "code",
   "execution_count": 11,
   "metadata": {},
   "outputs": [],
   "source": [
    "data_lgd_new.drop(data_lgd_new.loc[data_lgd_new['AK']==1].index, inplace=True)\n",
    "data_lgd_new.drop(data_lgd_new.loc[data_lgd_new['RI']==1].index, inplace=True)\n",
    "data_lgd_new.drop(data_lgd_new.loc[data_lgd_new['PR']==1].index, inplace=True)\n",
    "data_lgd_new.drop(data_lgd_new.loc[data_lgd_new['MT']==1].index, inplace=True)\n",
    "data_lgd_new.drop(data_lgd_new.loc[data_lgd_new['WY']==1].index, inplace=True)\n",
    "data_lgd_new.drop(data_lgd_new.loc[data_lgd_new['SD']==1].index, inplace=True)\n",
    "data_lgd_new.drop(data_lgd_new.loc[data_lgd_new['AR']==1].index, inplace=True)\n",
    "data_lgd_new.drop(data_lgd_new.loc[data_lgd_new['WV']==1].index, inplace=True)\n",
    "data_lgd_new.drop(data_lgd_new.loc[data_lgd_new['NE']==1].index, inplace=True)\n",
    "data_lgd_new.drop(data_lgd_new.loc[data_lgd_new['KS']==1].index, inplace=True)\n",
    "data_lgd_new.drop(data_lgd_new.loc[data_lgd_new['ID']==1].index, inplace=True)\n",
    "data_lgd_new.drop(data_lgd_new.loc[data_lgd_new['NH']==1].index, inplace=True)\n",
    "data_lgd_new.drop(data_lgd_new.loc[data_lgd_new['DC']==1].index, inplace=True)\n",
    "data_lgd_new.drop(data_lgd_new.loc[data_lgd_new['DE']==1].index, inplace=True)\n",
    "data_lgd_new.drop(data_lgd_new.loc[data_lgd_new['NM']==1].index, inplace=True)\n",
    "data_lgd_new.drop(data_lgd_new.loc[data_lgd_new['HI']==1].index, inplace=True)\n",
    "data_lgd_new.drop(data_lgd_new.loc[data_lgd_new['KY']==1].index, inplace=True)\n",
    "data_lgd_new.drop(data_lgd_new.loc[data_lgd_new['IA']==1].index, inplace=True)\n",
    "data_lgd_new.drop(data_lgd_new.loc[data_lgd_new['WI']==1].index, inplace=True)\n",
    "data_lgd_new.drop(data_lgd_new.loc[data_lgd_new['MS']==1].index, inplace=True)\n",
    "data_lgd_new.drop(data_lgd_new.loc[data_lgd_new['OK']==1].index, inplace=True)\n",
    "data_lgd_new.drop(data_lgd_new.loc[data_lgd_new['ME']==1].index, inplace=True)\n",
    "data_lgd_new.drop(data_lgd_new.loc[data_lgd_new['UT']==1].index, inplace=True)\n",
    "data_lgd_new.drop(data_lgd_new.loc[data_lgd_new['CT']==1].index, inplace=True)\n",
    "data_lgd_new.drop(data_lgd_new.loc[data_lgd_new['AL']==1].index, inplace=True)\n",
    "data_lgd_new.drop(data_lgd_new.loc[data_lgd_new['PA']==1].index, inplace=True)"
   ]
  },
  {
   "cell_type": "code",
   "execution_count": 12,
   "metadata": {},
   "outputs": [],
   "source": [
    "data_lgd_new = data_lgd_new.loc[:, data_lgd_new.columns != 'AK']\n",
    "data_lgd_new = data_lgd_new.loc[:, data_lgd_new.columns != 'RI']\n",
    "data_lgd_new = data_lgd_new.loc[:, data_lgd_new.columns != 'PR']\n",
    "data_lgd_new = data_lgd_new.loc[:, data_lgd_new.columns != 'WY']\n",
    "data_lgd_new = data_lgd_new.loc[:, data_lgd_new.columns != 'MT']\n",
    "data_lgd_new = data_lgd_new.loc[:, data_lgd_new.columns != 'SD']\n",
    "data_lgd_new = data_lgd_new.loc[:, data_lgd_new.columns != 'WV']\n",
    "data_lgd_new = data_lgd_new.loc[:, data_lgd_new.columns != 'NE']\n",
    "data_lgd_new = data_lgd_new.loc[:, data_lgd_new.columns != 'AR']\n",
    "data_lgd_new = data_lgd_new.loc[:, data_lgd_new.columns != 'NM']\n",
    "data_lgd_new = data_lgd_new.loc[:, data_lgd_new.columns != 'KS']\n",
    "data_lgd_new = data_lgd_new.loc[:, data_lgd_new.columns != 'ID']\n",
    "data_lgd_new = data_lgd_new.loc[:, data_lgd_new.columns != 'DE']\n",
    "data_lgd_new = data_lgd_new.loc[:, data_lgd_new.columns != 'DC']\n",
    "data_lgd_new = data_lgd_new.loc[:, data_lgd_new.columns != 'NH']\n",
    "data_lgd_new = data_lgd_new.loc[:, data_lgd_new.columns != 'KY']\n",
    "data_lgd_new = data_lgd_new.loc[:, data_lgd_new.columns != 'HI']\n",
    "data_lgd_new = data_lgd_new.loc[:, data_lgd_new.columns != 'IA']\n",
    "data_lgd_new = data_lgd_new.loc[:, data_lgd_new.columns != 'MS']\n",
    "data_lgd_new = data_lgd_new.loc[:, data_lgd_new.columns != 'WI']\n",
    "data_lgd_new = data_lgd_new.loc[:, data_lgd_new.columns != 'OK']\n",
    "data_lgd_new = data_lgd_new.loc[:, data_lgd_new.columns != 'ME']\n",
    "data_lgd_new = data_lgd_new.loc[:, data_lgd_new.columns != 'CT']\n",
    "data_lgd_new = data_lgd_new.loc[:, data_lgd_new.columns != 'UT']\n",
    "data_lgd_new = data_lgd_new.loc[:, data_lgd_new.columns != 'PA']\n",
    "data_lgd_new = data_lgd_new.loc[:, data_lgd_new.columns != 'AL']\n"
   ]
  },
  {
   "cell_type": "code",
   "execution_count": 13,
   "metadata": {},
   "outputs": [
    {
     "data": {
      "image/png": "[encoded data removed]",
      "text/plain": [
       "<Figure size 432x288 with 1 Axes>"
      ]
     },
     "metadata": {
      "needs_background": "light"
     },
     "output_type": "display_data"
    }
   ],
   "source": [
    "sns.distplot(data_lgd_new.lgd_time, color='grey')\n",
    "plt.ylabel('Frequency')\n",
    "plt.show()"
   ]
  },
  {
   "cell_type": "code",
   "execution_count": 14,
   "metadata": {},
   "outputs": [
    {
     "data": {
      "image/png": "[encoded data removed]",
      "text/plain": [
       "<Figure size 432x288 with 1 Axes>"
      ]
     },
     "metadata": {
      "needs_background": "light"
     },
     "output_type": "display_data"
    },
    {
     "data": {
      "text/plain": [
       "count    1052.00\n",
       "mean        0.58\n",
       "std         0.31\n",
       "min         0.00\n",
       "25%         0.37\n",
       "50%         0.61\n",
       "75%         0.83\n",
       "max         1.00\n",
       "Name: lgd_time, dtype: float64"
      ]
     },
     "execution_count": 14,
     "metadata": {},
     "output_type": "execute_result"
    }
   ],
   "source": [
    "#Winsorizen der lgd_time um realisationen zwischen 1 und 0 zu erhalten\n",
    "data_lgd_new.loc[data_lgd_new['lgd_time'] >= 1, 'lgd_time'] = 1\n",
    "data_lgd_new.loc[data_lgd_new['lgd_time'] <= 0, 'lgd_time'] = 0.0001\n",
    "\n",
    "\n",
    "\n",
    "sns.distplot(data_lgd_new.lgd_time, color='grey')\n",
    "plt.ylabel('Frequency')\n",
    "plt.show()\n",
    "\n",
    "\n",
    "\n",
    "data_lgd_new.lgd_time.describe().round(decimals = 2)"
   ]
  },
  {
   "cell_type": "code",
   "execution_count": 15,
   "metadata": {},
   "outputs": [
    {
     "name": "stdout",
     "output_type": "stream",
     "text": [
      "-----------------------------------\n",
      "id            0.081621\n",
      "time          0.155928\n",
      "orig_time     0.290538\n",
      "first_time    0.293904\n",
      "mat_time      0.126688\n",
      "                ...   \n",
      "SC            0.022774\n",
      "TN           -0.064134\n",
      "TX           -0.069851\n",
      "VA           -0.081850\n",
      "WA           -0.132797\n",
      "Name: lgd_time, Length: 62, dtype: float64\n"
     ]
    }
   ],
   "source": [
    "#Korrelation der Features mit lgd_time\n",
    "print('-'*35)\n",
    "print(data_lgd_new.corr()['lgd_time'])"
   ]
  },
  {
   "cell_type": "code",
   "execution_count": 16,
   "metadata": {},
   "outputs": [],
   "source": [
    "data_lgd_new = data_lgd_new.loc[:, data_lgd_new.columns != 'id']\n",
    "data_lgd_new = data_lgd_new.loc[:, data_lgd_new.columns != 'rate_time']\n",
    "data_lgd_new = data_lgd_new.loc[:, data_lgd_new.columns != 'hpi_time']\n",
    "data_lgd_new = data_lgd_new.loc[:, data_lgd_new.columns != 'uer_time']\n",
    "data_lgd_new = data_lgd_new.loc[:, data_lgd_new.columns != 'REtype_CO_orig_time']\n",
    "data_lgd_new = data_lgd_new.loc[:, data_lgd_new.columns != 'REtype_PU_orig_time']\n",
    "data_lgd_new = data_lgd_new.loc[:, data_lgd_new.columns != 'REtype_SF_orig_time']\n",
    "data_lgd_new = data_lgd_new.loc[:, data_lgd_new.columns != 'FICO_orig_time']\n",
    "data_lgd_new = data_lgd_new.loc[:, data_lgd_new.columns != 'LTV_orig_time']\n",
    "data_lgd_new = data_lgd_new.loc[:, data_lgd_new.columns != 'default_time']\n",
    "data_lgd_new = data_lgd_new.loc[:, data_lgd_new.columns != 'payoff_time']\n",
    "data_lgd_new = data_lgd_new.loc[:, data_lgd_new.columns != 'status_time']\n",
    "data_lgd_new = data_lgd_new.loc[:, data_lgd_new.columns != 'planned_lifetime']\n",
    "data_lgd_new = data_lgd_new.loc[:, data_lgd_new.columns != 'sq_planned_lifetime']\n",
    "data_lgd_new = data_lgd_new.loc[:, data_lgd_new.columns != 'realized_lifetime']\n",
    "data_lgd_new = data_lgd_new.loc[:, data_lgd_new.columns != 'rel_realized_lifetime']\n",
    "data_lgd_new = data_lgd_new.loc[:, data_lgd_new.columns != 'sq_realized_lifetime']\n",
    "data_lgd_new = data_lgd_new.loc[:, data_lgd_new.columns != 'remaining_lifetime']\n",
    "data_lgd_new = data_lgd_new.loc[:, data_lgd_new.columns != 'sq_remaining_lifetime']\n",
    "data_lgd_new = data_lgd_new.loc[:, data_lgd_new.columns != 'sq_diff_LTV']\n",
    "data_lgd_new = data_lgd_new.loc[:, data_lgd_new.columns != 'sq_LTV_orig_time']\n",
    "data_lgd_new = data_lgd_new.loc[:, data_lgd_new.columns != 'sq_balance_orig_time']\n",
    "data_lgd_new = data_lgd_new.loc[:, data_lgd_new.columns != 'sq_FICO_orig_time']\n",
    "data_lgd_new = data_lgd_new.loc[:, data_lgd_new.columns != 'state_orig_time']\n",
    "data_lgd_new = data_lgd_new.loc[:, data_lgd_new.columns != 'diff_interest_rate']\n",
    "data_lgd_new = data_lgd_new.loc[:, data_lgd_new.columns != 'rel_diff_interest_rate']\n",
    "data_lgd_new = data_lgd_new.loc[:, data_lgd_new.columns != 'recovery_res']"
   ]
  },
  {
   "cell_type": "code",
   "execution_count": 17,
   "metadata": {},
   "outputs": [
    {
     "data": {
      "text/html": [
       "<div>\n",
       "<style scoped>\n",
       "    .dataframe tbody tr th:only-of-type {\n",
       "        vertical-align: middle;\n",
       "    }\n",
       "\n",
       "    .dataframe tbody tr th {\n",
       "        vertical-align: top;\n",
       "    }\n",
       "\n",
       "    .dataframe thead th {\n",
       "        text-align: right;\n",
       "    }\n",
       "</style>\n",
       "<table border=\"1\" class=\"dataframe\">\n",
       "  <thead>\n",
       "    <tr style=\"text-align: right;\">\n",
       "      <th></th>\n",
       "      <th>time</th>\n",
       "      <th>orig_time</th>\n",
       "      <th>first_time</th>\n",
       "      <th>mat_time</th>\n",
       "      <th>res_time</th>\n",
       "      <th>balance_time</th>\n",
       "      <th>LTV_time</th>\n",
       "      <th>interest_rate_time</th>\n",
       "      <th>gdp_time</th>\n",
       "      <th>investor_orig_time</th>\n",
       "      <th>...</th>\n",
       "      <th>NJ</th>\n",
       "      <th>NV</th>\n",
       "      <th>NY</th>\n",
       "      <th>OH</th>\n",
       "      <th>OR</th>\n",
       "      <th>SC</th>\n",
       "      <th>TN</th>\n",
       "      <th>TX</th>\n",
       "      <th>VA</th>\n",
       "      <th>WA</th>\n",
       "    </tr>\n",
       "  </thead>\n",
       "  <tbody>\n",
       "    <tr>\n",
       "      <th>count</th>\n",
       "      <td>1052.000000</td>\n",
       "      <td>1052.000000</td>\n",
       "      <td>1052.000000</td>\n",
       "      <td>1052.000000</td>\n",
       "      <td>1052.000000</td>\n",
       "      <td>1.052000e+03</td>\n",
       "      <td>1052.000000</td>\n",
       "      <td>1052.000000</td>\n",
       "      <td>1052.000000</td>\n",
       "      <td>1052.000000</td>\n",
       "      <td>...</td>\n",
       "      <td>1052.000000</td>\n",
       "      <td>1052.000000</td>\n",
       "      <td>1052.000000</td>\n",
       "      <td>1052.000000</td>\n",
       "      <td>1052.000000</td>\n",
       "      <td>1052.000000</td>\n",
       "      <td>1052.000000</td>\n",
       "      <td>1052.000000</td>\n",
       "      <td>1052.000000</td>\n",
       "      <td>1052.000000</td>\n",
       "    </tr>\n",
       "    <tr>\n",
       "      <th>mean</th>\n",
       "      <td>34.251901</td>\n",
       "      <td>22.836502</td>\n",
       "      <td>25.713878</td>\n",
       "      <td>142.649240</td>\n",
       "      <td>40.890684</td>\n",
       "      <td>2.494759e+05</td>\n",
       "      <td>97.105967</td>\n",
       "      <td>7.678277</td>\n",
       "      <td>0.459465</td>\n",
       "      <td>0.150190</td>\n",
       "      <td>...</td>\n",
       "      <td>0.015209</td>\n",
       "      <td>0.047529</td>\n",
       "      <td>0.018061</td>\n",
       "      <td>0.035171</td>\n",
       "      <td>0.015209</td>\n",
       "      <td>0.010456</td>\n",
       "      <td>0.015209</td>\n",
       "      <td>0.049430</td>\n",
       "      <td>0.025665</td>\n",
       "      <td>0.028517</td>\n",
       "    </tr>\n",
       "    <tr>\n",
       "      <th>std</th>\n",
       "      <td>7.887666</td>\n",
       "      <td>6.041395</td>\n",
       "      <td>5.106932</td>\n",
       "      <td>13.492838</td>\n",
       "      <td>9.143347</td>\n",
       "      <td>1.683180e+05</td>\n",
       "      <td>20.825714</td>\n",
       "      <td>1.946618</td>\n",
       "      <td>2.316799</td>\n",
       "      <td>0.357428</td>\n",
       "      <td>...</td>\n",
       "      <td>0.122442</td>\n",
       "      <td>0.212868</td>\n",
       "      <td>0.133235</td>\n",
       "      <td>0.184300</td>\n",
       "      <td>0.122442</td>\n",
       "      <td>0.101768</td>\n",
       "      <td>0.122442</td>\n",
       "      <td>0.216866</td>\n",
       "      <td>0.158210</td>\n",
       "      <td>0.166524</td>\n",
       "    </tr>\n",
       "    <tr>\n",
       "      <th>min</th>\n",
       "      <td>3.000000</td>\n",
       "      <td>-21.000000</td>\n",
       "      <td>1.000000</td>\n",
       "      <td>40.000000</td>\n",
       "      <td>9.000000</td>\n",
       "      <td>1.256519e+04</td>\n",
       "      <td>19.565958</td>\n",
       "      <td>2.000000</td>\n",
       "      <td>-4.146711</td>\n",
       "      <td>0.000000</td>\n",
       "      <td>...</td>\n",
       "      <td>0.000000</td>\n",
       "      <td>0.000000</td>\n",
       "      <td>0.000000</td>\n",
       "      <td>0.000000</td>\n",
       "      <td>0.000000</td>\n",
       "      <td>0.000000</td>\n",
       "      <td>0.000000</td>\n",
       "      <td>0.000000</td>\n",
       "      <td>0.000000</td>\n",
       "      <td>0.000000</td>\n",
       "    </tr>\n",
       "    <tr>\n",
       "      <th>25%</th>\n",
       "      <td>30.000000</td>\n",
       "      <td>22.000000</td>\n",
       "      <td>24.000000</td>\n",
       "      <td>141.000000</td>\n",
       "      <td>35.000000</td>\n",
       "      <td>1.237250e+05</td>\n",
       "      <td>83.234567</td>\n",
       "      <td>6.625000</td>\n",
       "      <td>-0.314448</td>\n",
       "      <td>0.000000</td>\n",
       "      <td>...</td>\n",
       "      <td>0.000000</td>\n",
       "      <td>0.000000</td>\n",
       "      <td>0.000000</td>\n",
       "      <td>0.000000</td>\n",
       "      <td>0.000000</td>\n",
       "      <td>0.000000</td>\n",
       "      <td>0.000000</td>\n",
       "      <td>0.000000</td>\n",
       "      <td>0.000000</td>\n",
       "      <td>0.000000</td>\n",
       "    </tr>\n",
       "    <tr>\n",
       "      <th>50%</th>\n",
       "      <td>34.000000</td>\n",
       "      <td>25.000000</td>\n",
       "      <td>27.000000</td>\n",
       "      <td>144.000000</td>\n",
       "      <td>40.000000</td>\n",
       "      <td>2.086250e+05</td>\n",
       "      <td>98.555285</td>\n",
       "      <td>7.625000</td>\n",
       "      <td>1.229172</td>\n",
       "      <td>0.000000</td>\n",
       "      <td>...</td>\n",
       "      <td>0.000000</td>\n",
       "      <td>0.000000</td>\n",
       "      <td>0.000000</td>\n",
       "      <td>0.000000</td>\n",
       "      <td>0.000000</td>\n",
       "      <td>0.000000</td>\n",
       "      <td>0.000000</td>\n",
       "      <td>0.000000</td>\n",
       "      <td>0.000000</td>\n",
       "      <td>0.000000</td>\n",
       "    </tr>\n",
       "    <tr>\n",
       "      <th>75%</th>\n",
       "      <td>38.000000</td>\n",
       "      <td>26.000000</td>\n",
       "      <td>29.000000</td>\n",
       "      <td>147.000000</td>\n",
       "      <td>47.000000</td>\n",
       "      <td>3.311616e+05</td>\n",
       "      <td>112.317430</td>\n",
       "      <td>8.875000</td>\n",
       "      <td>2.151365</td>\n",
       "      <td>0.000000</td>\n",
       "      <td>...</td>\n",
       "      <td>0.000000</td>\n",
       "      <td>0.000000</td>\n",
       "      <td>0.000000</td>\n",
       "      <td>0.000000</td>\n",
       "      <td>0.000000</td>\n",
       "      <td>0.000000</td>\n",
       "      <td>0.000000</td>\n",
       "      <td>0.000000</td>\n",
       "      <td>0.000000</td>\n",
       "      <td>0.000000</td>\n",
       "    </tr>\n",
       "    <tr>\n",
       "      <th>max</th>\n",
       "      <td>58.000000</td>\n",
       "      <td>31.000000</td>\n",
       "      <td>52.000000</td>\n",
       "      <td>189.000000</td>\n",
       "      <td>60.000000</td>\n",
       "      <td>1.317836e+06</td>\n",
       "      <td>149.612373</td>\n",
       "      <td>13.500000</td>\n",
       "      <td>4.320114</td>\n",
       "      <td>1.000000</td>\n",
       "      <td>...</td>\n",
       "      <td>1.000000</td>\n",
       "      <td>1.000000</td>\n",
       "      <td>1.000000</td>\n",
       "      <td>1.000000</td>\n",
       "      <td>1.000000</td>\n",
       "      <td>1.000000</td>\n",
       "      <td>1.000000</td>\n",
       "      <td>1.000000</td>\n",
       "      <td>1.000000</td>\n",
       "      <td>1.000000</td>\n",
       "    </tr>\n",
       "  </tbody>\n",
       "</table>\n",
       "<p>8 rows × 43 columns</p>\n",
       "</div>"
      ],
      "text/plain": [
       "              time    orig_time   first_time     mat_time     res_time  \\\n",
       "count  1052.000000  1052.000000  1052.000000  1052.000000  1052.000000   \n",
       "mean     34.251901    22.836502    25.713878   142.649240    40.890684   \n",
       "std       7.887666     6.041395     5.106932    13.492838     9.143347   \n",
       "min       3.000000   -21.000000     1.000000    40.000000     9.000000   \n",
       "25%      30.000000    22.000000    24.000000   141.000000    35.000000   \n",
       "50%      34.000000    25.000000    27.000000   144.000000    40.000000   \n",
       "75%      38.000000    26.000000    29.000000   147.000000    47.000000   \n",
       "max      58.000000    31.000000    52.000000   189.000000    60.000000   \n",
       "\n",
       "       balance_time     LTV_time  interest_rate_time     gdp_time  \\\n",
       "count  1.052000e+03  1052.000000         1052.000000  1052.000000   \n",
       "mean   2.494759e+05    97.105967            7.678277     0.459465   \n",
       "std    1.683180e+05    20.825714            1.946618     2.316799   \n",
       "min    1.256519e+04    19.565958            2.000000    -4.146711   \n",
       "25%    1.237250e+05    83.234567            6.625000    -0.314448   \n",
       "50%    2.086250e+05    98.555285            7.625000     1.229172   \n",
       "75%    3.311616e+05   112.317430            8.875000     2.151365   \n",
       "max    1.317836e+06   149.612373           13.500000     4.320114   \n",
       "\n",
       "       investor_orig_time  ...           NJ           NV           NY  \\\n",
       "count         1052.000000  ...  1052.000000  1052.000000  1052.000000   \n",
       "mean             0.150190  ...     0.015209     0.047529     0.018061   \n",
       "std              0.357428  ...     0.122442     0.212868     0.133235   \n",
       "min              0.000000  ...     0.000000     0.000000     0.000000   \n",
       "25%              0.000000  ...     0.000000     0.000000     0.000000   \n",
       "50%              0.000000  ...     0.000000     0.000000     0.000000   \n",
       "75%              0.000000  ...     0.000000     0.000000     0.000000   \n",
       "max              1.000000  ...     1.000000     1.000000     1.000000   \n",
       "\n",
       "                OH           OR           SC           TN           TX  \\\n",
       "count  1052.000000  1052.000000  1052.000000  1052.000000  1052.000000   \n",
       "mean      0.035171     0.015209     0.010456     0.015209     0.049430   \n",
       "std       0.184300     0.122442     0.101768     0.122442     0.216866   \n",
       "min       0.000000     0.000000     0.000000     0.000000     0.000000   \n",
       "25%       0.000000     0.000000     0.000000     0.000000     0.000000   \n",
       "50%       0.000000     0.000000     0.000000     0.000000     0.000000   \n",
       "75%       0.000000     0.000000     0.000000     0.000000     0.000000   \n",
       "max       1.000000     1.000000     1.000000     1.000000     1.000000   \n",
       "\n",
       "                VA           WA  \n",
       "count  1052.000000  1052.000000  \n",
       "mean      0.025665     0.028517  \n",
       "std       0.158210     0.166524  \n",
       "min       0.000000     0.000000  \n",
       "25%       0.000000     0.000000  \n",
       "50%       0.000000     0.000000  \n",
       "75%       0.000000     0.000000  \n",
       "max       1.000000     1.000000  \n",
       "\n",
       "[8 rows x 43 columns]"
      ]
     },
     "execution_count": 17,
     "metadata": {},
     "output_type": "execute_result"
    }
   ],
   "source": [
    "data_lgd_new.describe()"
   ]
  },
  {
   "cell_type": "code",
   "execution_count": 18,
   "metadata": {},
   "outputs": [],
   "source": [
    "#Splitten in Trainings- und Testset\n",
    "lgd_train = data_lgd_new[data_lgd_new['time'] < 45]\n",
    "lgd_test = data_lgd_new[data_lgd_new['time'] >= 45]"
   ]
  },
  {
   "cell_type": "code",
   "execution_count": 19,
   "metadata": {},
   "outputs": [],
   "source": [
    "\n",
    "data_less_time_train = lgd_train.loc[:, lgd_train.columns != 'time']\n",
    "data_less_time_test = lgd_test.loc[:, lgd_test.columns != 'time']\n",
    "\n",
    "y_train = data_less_time_train['lgd_time']\n",
    "x_train = data_less_time_train.loc[:, data_less_time_train.columns != 'lgd_time']\n",
    "\n",
    "y_test = data_less_time_test['lgd_time']\n",
    "x_test = data_less_time_test.loc[:, data_less_time_test.columns != 'lgd_time']"
   ]
  },
  {
   "cell_type": "code",
   "execution_count": 20,
   "metadata": {},
   "outputs": [],
   "source": [
    "#Importieren des StandardScalers\n",
    "from sklearn.preprocessing import StandardScaler\n",
    "\n",
    "#Standardisieren der features\n",
    "scaler = StandardScaler()\n",
    "\n",
    "#Nur das Trainingsset fitten\n",
    "scaler.fit(x_train)\n",
    "\n",
    "#Transformieren von Trainings- und Testset\n",
    "x_train_scaled = scaler.transform(x_train)\n",
    "x_test_scaled = scaler.transform(x_test)"
   ]
  },
  {
   "cell_type": "code",
   "execution_count": 21,
   "metadata": {},
   "outputs": [],
   "source": [
    "from sklearn.decomposition import PCA \n",
    "#Ausgeben der principle components, sodass 90% der varianz erhalten bleiben \n",
    "pca = PCA(.90)"
   ]
  },
  {
   "cell_type": "code",
   "execution_count": 22,
   "metadata": {},
   "outputs": [
    {
     "name": "stdout",
     "output_type": "stream",
     "text": [
      "Anzahl benötigter principal Komponents\n",
      "----------------------------------------\n",
      "27\n"
     ]
    },
    {
     "data": {
      "image/png": "[encoded data removed]",
      "text/plain": [
       "<Figure size 432x288 with 1 Axes>"
      ]
     },
     "metadata": {
      "needs_background": "light"
     },
     "output_type": "display_data"
    }
   ],
   "source": [
    "#Fit der PCA auf das Trainingsset\n",
    "pca.fit(x_train_scaled)\n",
    "\n",
    "#Plot der kumulativen Summe der erklärten Varianz\n",
    "plt.plot(np.cumsum(pca.explained_variance_ratio_))\n",
    "plt.xlabel('Anzahl principal components')\n",
    "plt.ylabel('Cumsum der erklärten Varianz')\n",
    "\n",
    "#Anzahl benötigter Komponenten\n",
    "print('Anzahl benötigter principal Komponents')\n",
    "print('-'*40)\n",
    "print(pca.n_components_)"
   ]
  },
  {
   "cell_type": "code",
   "execution_count": 23,
   "metadata": {},
   "outputs": [],
   "source": [
    "#Transformieren von Trainings- und Testset\n",
    "x_train_pca = pca.transform(x_train_scaled)\n",
    "x_test_pca = pca.transform(x_test_scaled)"
   ]
  },
  {
   "cell_type": "code",
   "execution_count": 24,
   "metadata": {},
   "outputs": [],
   "source": [
    "#Schaffen der neuen Datensätze \n",
    "PCA_train = pd.DataFrame(data=x_train_pca, columns=['principle_component1','principle_component2','principle_component3','principle_component4','principle_component5','principle_component6','principle_component7','principle_component8','principle_component9','principle_component10','principle_component11','principle_component12','principle_component13','principle_component14','principle_component15','principle_component16','principle_component17','principle_component18','principle_component19','principle_component20','principle_component21','principle_component22','principle_component23','principle_component24','principle_component25','principle_component26','principle_component27'])\n",
    "PCA_test = pd.DataFrame(data=x_test_pca, columns=['principle_component1','principle_component2','principle_component3','principle_component4','principle_component5','principle_component6','principle_component7','principle_component8','principle_component9','principle_component10','principle_component11','principle_component12','principle_component13','principle_component14','principle_component15','principle_component16','principle_component17','principle_component18','principle_component19','principle_component20','principle_component21','principle_component22','principle_component23','principle_component24','principle_component25','principle_component26','principle_component27'])"
   ]
  },
  {
   "cell_type": "code",
   "execution_count": 25,
   "metadata": {},
   "outputs": [
    {
     "name": "stdout",
     "output_type": "stream",
     "text": [
      "{'bootstrap': True,\n",
      " 'ccp_alpha': 0.0,\n",
      " 'criterion': 'mse',\n",
      " 'max_depth': None,\n",
      " 'max_features': 'auto',\n",
      " 'max_leaf_nodes': None,\n",
      " 'max_samples': None,\n",
      " 'min_impurity_decrease': 0.0,\n",
      " 'min_impurity_split': None,\n",
      " 'min_samples_leaf': 1,\n",
      " 'min_samples_split': 2,\n",
      " 'min_weight_fraction_leaf': 0.0,\n",
      " 'n_estimators': 100,\n",
      " 'n_jobs': None,\n",
      " 'oob_score': False,\n",
      " 'random_state': 42,\n",
      " 'verbose': 0,\n",
      " 'warm_start': False}\n"
     ]
    }
   ],
   "source": [
    "from sklearn.ensemble import RandomForestRegressor\n",
    "from pprint import pprint \n",
    "rf = RandomForestRegressor(random_state = 42)\n",
    "\n",
    "pprint(rf.get_params())"
   ]
  },
  {
   "cell_type": "code",
   "execution_count": 26,
   "metadata": {},
   "outputs": [
    {
     "name": "stdout",
     "output_type": "stream",
     "text": [
      "'Parameters currently in use:\\n'\n",
      "{'ccp_alpha': 0.0,\n",
      " 'criterion': 'mse',\n",
      " 'max_depth': None,\n",
      " 'max_features': None,\n",
      " 'max_leaf_nodes': None,\n",
      " 'min_impurity_decrease': 0.0,\n",
      " 'min_impurity_split': None,\n",
      " 'min_samples_leaf': 1,\n",
      " 'min_samples_split': 2,\n",
      " 'min_weight_fraction_leaf': 0.0,\n",
      " 'presort': 'deprecated',\n",
      " 'random_state': None,\n",
      " 'splitter': 'best'}\n"
     ]
    }
   ],
   "source": [
    "from sklearn.tree import DecisionTreeRegressor \n",
    "dt = DecisionTreeRegressor()\n",
    "pprint('Parameters currently in use:\\n')\n",
    "pprint(dt.get_params())"
   ]
  },
  {
   "cell_type": "code",
   "execution_count": 27,
   "metadata": {},
   "outputs": [
    {
     "name": "stdout",
     "output_type": "stream",
     "text": [
      "'Parameters currently in use:\\n'\n",
      "{'alpha': 0.9,\n",
      " 'ccp_alpha': 0.0,\n",
      " 'criterion': 'friedman_mse',\n",
      " 'init': None,\n",
      " 'learning_rate': 0.1,\n",
      " 'loss': 'ls',\n",
      " 'max_depth': 3,\n",
      " 'max_features': None,\n",
      " 'max_leaf_nodes': None,\n",
      " 'min_impurity_decrease': 0.0,\n",
      " 'min_impurity_split': None,\n",
      " 'min_samples_leaf': 1,\n",
      " 'min_samples_split': 2,\n",
      " 'min_weight_fraction_leaf': 0.0,\n",
      " 'n_estimators': 100,\n",
      " 'n_iter_no_change': None,\n",
      " 'presort': 'deprecated',\n",
      " 'random_state': None,\n",
      " 'subsample': 1.0,\n",
      " 'tol': 0.0001,\n",
      " 'validation_fraction': 0.1,\n",
      " 'verbose': 0,\n",
      " 'warm_start': False}\n"
     ]
    }
   ],
   "source": [
    "from sklearn.ensemble import GradientBoostingRegressor\n",
    "gbr = GradientBoostingRegressor()\n",
    "pprint('Parameters currently in use:\\n')\n",
    "pprint(gbr.get_params())\n"
   ]
  },
  {
   "cell_type": "code",
   "execution_count": 28,
   "metadata": {},
   "outputs": [],
   "source": [
    "from sklearn.model_selection import RandomizedSearchCV\n",
    "from scipy.stats import randint\n",
    "import pickle"
   ]
  },
  {
   "cell_type": "code",
   "execution_count": 29,
   "metadata": {},
   "outputs": [],
   "source": [
    "params_dt = {'max_depth': randint(1, 150),\n",
    "            'max_features': randint (1, 20),\n",
    "            'min_samples_split': randint(1, 100),\n",
    "            'min_samples_leaf': randint(1, 100),\n",
    "            'min_impurity_decrease' : [0.1, 0.01, 0.001, 0.0001, 0.00001]}\n",
    "\n",
    "dtr = DecisionTreeRegressor()\n",
    "rand_search_cv_dt = RandomizedSearchCV(dtr, params_dt, verbose = 1, n_iter = 50, n_jobs = 2, cv=5)"
   ]
  },
  {
   "cell_type": "code",
   "execution_count": 30,
   "metadata": {},
   "outputs": [
    {
     "name": "stdout",
     "output_type": "stream",
     "text": [
      "Fitting 5 folds for each of 50 candidates, totalling 250 fits\n"
     ]
    },
    {
     "name": "stderr",
     "output_type": "stream",
     "text": [
      "[Parallel(n_jobs=2)]: Using backend LokyBackend with 2 concurrent workers.\n"
     ]
    },
    {
     "name": "stdout",
     "output_type": "stream",
     "text": [
      "Hyperparameters for Decision Tree with PCA data:\n",
      " {'max_depth': 99, 'max_features': 15, 'min_impurity_decrease': 0.0001, 'min_samples_leaf': 23, 'min_samples_split': 89}\n"
     ]
    },
    {
     "name": "stderr",
     "output_type": "stream",
     "text": [
      "[Parallel(n_jobs=2)]: Done 218 tasks      | elapsed:    5.0s\n",
      "[Parallel(n_jobs=2)]: Done 250 out of 250 | elapsed:    5.1s finished\n"
     ]
    }
   ],
   "source": [
    "#Hyperparameter for Decision Tree with PCA data\n",
    "rs_dt_pca = rand_search_cv_dt.fit(x_train_pca, y_train)\n",
    "dt_pca_params = rs_dt_pca.best_params_\n",
    "print('Hyperparameters for Decision Tree with PCA data:\\n', dt_pca_params)"
   ]
  },
  {
   "cell_type": "code",
   "execution_count": 31,
   "metadata": {},
   "outputs": [
    {
     "name": "stdout",
     "output_type": "stream",
     "text": [
      "Fitting 5 folds for each of 50 candidates, totalling 250 fits\n"
     ]
    },
    {
     "name": "stderr",
     "output_type": "stream",
     "text": [
      "[Parallel(n_jobs=2)]: Using backend LokyBackend with 2 concurrent workers.\n"
     ]
    },
    {
     "name": "stdout",
     "output_type": "stream",
     "text": [
      "Hyperparameters for Decision Tree with scaled data:\n",
      " {'max_depth': 87, 'max_features': 12, 'min_impurity_decrease': 0.0001, 'min_samples_leaf': 4, 'min_samples_split': 67}\n"
     ]
    },
    {
     "name": "stderr",
     "output_type": "stream",
     "text": [
      "[Parallel(n_jobs=2)]: Done 250 out of 250 | elapsed:    0.6s finished\n"
     ]
    }
   ],
   "source": [
    "#Hyperparameter for Decision Tree with scaled data\n",
    "rs_dt_scaled = rand_search_cv_dt.fit(x_train_scaled, y_train)\n",
    "dt_scaled_params = rs_dt_scaled.best_params_\n",
    "print('Hyperparameters for Decision Tree with scaled data:\\n', dt_scaled_params)"
   ]
  },
  {
   "cell_type": "code",
   "execution_count": 32,
   "metadata": {},
   "outputs": [
    {
     "name": "stdout",
     "output_type": "stream",
     "text": [
      "Fitting 5 folds for each of 50 candidates, totalling 250 fits\n"
     ]
    },
    {
     "name": "stderr",
     "output_type": "stream",
     "text": [
      "[Parallel(n_jobs=2)]: Using backend LokyBackend with 2 concurrent workers.\n"
     ]
    },
    {
     "name": "stdout",
     "output_type": "stream",
     "text": [
      "Hyperparameters for Decision Tree with base data:\n",
      " {'max_depth': 127, 'max_features': 14, 'min_impurity_decrease': 1e-05, 'min_samples_leaf': 26, 'min_samples_split': 78}\n"
     ]
    },
    {
     "name": "stderr",
     "output_type": "stream",
     "text": [
      "[Parallel(n_jobs=2)]: Done 240 tasks      | elapsed:    2.0s\n",
      "[Parallel(n_jobs=2)]: Done 250 out of 250 | elapsed:    2.1s finished\n"
     ]
    }
   ],
   "source": [
    "#Hyperparameter for Decision Tree with base data\n",
    "rs_dt_base = rand_search_cv_dt.fit(x_train, y_train)\n",
    "dt_base_params = rs_dt_base.best_params_\n",
    "print('Hyperparameters for Decision Tree with base data:\\n', dt_base_params)"
   ]
  },
  {
   "cell_type": "code",
   "execution_count": 33,
   "metadata": {},
   "outputs": [
    {
     "name": "stdout",
     "output_type": "stream",
     "text": [
      "Stored 'dt_pca_params' (dict)\n",
      "Stored 'dt_scaled_params' (dict)\n",
      "Stored 'dt_base_params' (dict)\n"
     ]
    }
   ],
   "source": [
    "%store dt_pca_params\n",
    "%store dt_scaled_params\n",
    "%store dt_base_params"
   ]
  },
  {
   "cell_type": "code",
   "execution_count": 34,
   "metadata": {},
   "outputs": [],
   "source": [
    "params_rf = {'n_estimators' : randint(1, 1000),\n",
    "             'max_depth' : [2, 3, 4, 5, 6, 7, 8, 9, 10, 15, 20, 30, 40, 50],\n",
    "             'max_features' : randint(1, 100),\n",
    "             'min_samples_split' : randint(2, 50)}\n",
    "\n",
    "rf = RandomForestRegressor()\n",
    "rand_search_cv_rf = RandomizedSearchCV(rf, params_rf, verbose = 1, n_iter = 50, n_jobs = 2, cv=5)"
   ]
  },
  {
   "cell_type": "code",
   "execution_count": 35,
   "metadata": {},
   "outputs": [
    {
     "name": "stdout",
     "output_type": "stream",
     "text": [
      "Fitting 5 folds for each of 50 candidates, totalling 250 fits\n"
     ]
    },
    {
     "name": "stderr",
     "output_type": "stream",
     "text": [
      "[Parallel(n_jobs=2)]: Using backend LokyBackend with 2 concurrent workers.\n",
      "[Parallel(n_jobs=2)]: Done  46 tasks      | elapsed:   26.3s\n",
      "[Parallel(n_jobs=2)]: Done 196 tasks      | elapsed:  2.9min\n",
      "[Parallel(n_jobs=2)]: Done 250 out of 250 | elapsed:  4.0min finished\n"
     ]
    },
    {
     "name": "stdout",
     "output_type": "stream",
     "text": [
      "Hyperparameters for Random Forest with PCA data:\n",
      " {'max_depth': 30, 'max_features': 21, 'min_samples_split': 5, 'n_estimators': 557}\n"
     ]
    }
   ],
   "source": [
    "rs_rf_pca = rand_search_cv_rf.fit(x_train_pca, y_train)\n",
    "rf_pca_params = rs_rf_pca.best_params_\n",
    "print('Hyperparameters for Random Forest with PCA data:\\n', rf_pca_params)"
   ]
  },
  {
   "cell_type": "code",
   "execution_count": 36,
   "metadata": {},
   "outputs": [
    {
     "name": "stdout",
     "output_type": "stream",
     "text": [
      "Fitting 5 folds for each of 50 candidates, totalling 250 fits\n"
     ]
    },
    {
     "name": "stderr",
     "output_type": "stream",
     "text": [
      "[Parallel(n_jobs=2)]: Using backend LokyBackend with 2 concurrent workers.\n",
      "[Parallel(n_jobs=2)]: Done  46 tasks      | elapsed:   15.1s\n",
      "[Parallel(n_jobs=2)]: Done 196 tasks      | elapsed:  2.4min\n",
      "[Parallel(n_jobs=2)]: Done 250 out of 250 | elapsed:  3.1min finished\n"
     ]
    },
    {
     "name": "stdout",
     "output_type": "stream",
     "text": [
      "Hyperparameters for Random Forest with scaled data:\n",
      " {'max_depth': 20, 'max_features': 38, 'min_samples_split': 17, 'n_estimators': 180}\n"
     ]
    }
   ],
   "source": [
    "rs_rf_scaled = rand_search_cv_rf.fit(x_train_scaled, y_train)\n",
    "rf_scaled_params = rs_rf_scaled.best_params_\n",
    "print('Hyperparameters for Random Forest with scaled data:\\n', rf_scaled_params)"
   ]
  },
  {
   "cell_type": "code",
   "execution_count": 37,
   "metadata": {},
   "outputs": [
    {
     "name": "stdout",
     "output_type": "stream",
     "text": [
      "Fitting 5 folds for each of 50 candidates, totalling 250 fits\n"
     ]
    },
    {
     "name": "stderr",
     "output_type": "stream",
     "text": [
      "[Parallel(n_jobs=2)]: Using backend LokyBackend with 2 concurrent workers.\n",
      "[Parallel(n_jobs=2)]: Done  46 tasks      | elapsed:   25.8s\n",
      "[Parallel(n_jobs=2)]: Done 196 tasks      | elapsed:  2.6min\n",
      "[Parallel(n_jobs=2)]: Done 250 out of 250 | elapsed:  3.5min finished\n"
     ]
    },
    {
     "name": "stdout",
     "output_type": "stream",
     "text": [
      "Hyperparameters for Random Forest with scaled data:\n",
      " {'max_depth': 15, 'max_features': 34, 'min_samples_split': 4, 'n_estimators': 173}\n"
     ]
    }
   ],
   "source": [
    "rs_rf_base = rand_search_cv_rf.fit(x_train, y_train)\n",
    "rf_base_params = rs_rf_base.best_params_\n",
    "print('Hyperparameters for Random Forest with scaled data:\\n', rf_base_params)"
   ]
  },
  {
   "cell_type": "code",
   "execution_count": 38,
   "metadata": {},
   "outputs": [
    {
     "name": "stdout",
     "output_type": "stream",
     "text": [
      "Stored 'rf_pca_params' (dict)\n",
      "Stored 'rf_scaled_params' (dict)\n",
      "Stored 'rf_base_params' (dict)\n"
     ]
    }
   ],
   "source": [
    "%store rf_pca_params\n",
    "%store rf_scaled_params\n",
    "%store rf_base_params"
   ]
  },
  {
   "cell_type": "code",
   "execution_count": 39,
   "metadata": {},
   "outputs": [],
   "source": [
    "params_gbr = {'n_estimators' : randint(1,1500),\n",
    "              'learning_rate' : [0.00001, 0.0001, 0.001, 0.01, 0.1],\n",
    "              'max_depth' : randint(1, 50),\n",
    "              'subsample' : [0.5, 0.75, 1]}\n",
    "gbr = GradientBoostingRegressor()\n",
    "rand_search_cv_gbr = RandomizedSearchCV(gbr, params_gbr, verbose = 1, n_iter = 50, n_jobs = -1, cv=5)"
   ]
  },
  {
   "cell_type": "code",
   "execution_count": 40,
   "metadata": {},
   "outputs": [
    {
     "name": "stdout",
     "output_type": "stream",
     "text": [
      "Fitting 5 folds for each of 50 candidates, totalling 250 fits\n"
     ]
    },
    {
     "name": "stderr",
     "output_type": "stream",
     "text": [
      "[Parallel(n_jobs=-1)]: Using backend LokyBackend with 8 concurrent workers.\n",
      "[Parallel(n_jobs=-1)]: Done  34 tasks      | elapsed:  3.8min\n",
      "[Parallel(n_jobs=-1)]: Done 184 tasks      | elapsed: 11.7min\n",
      "[Parallel(n_jobs=-1)]: Done 250 out of 250 | elapsed: 14.7min finished\n"
     ]
    },
    {
     "name": "stdout",
     "output_type": "stream",
     "text": [
      "Hyperparameter for Gradient Boosting Regressor with PCA data:\n",
      " {'learning_rate': 0.01, 'max_depth': 2, 'n_estimators': 809, 'subsample': 0.75}\n"
     ]
    }
   ],
   "source": [
    "rs_gbr_pca = rand_search_cv_gbr.fit(x_train_pca, y_train)\n",
    "gbr_pca_params = rs_gbr_pca.best_params_\n",
    "print('Hyperparameter for Gradient Boosting Regressor with PCA data:\\n', gbr_pca_params)"
   ]
  },
  {
   "cell_type": "code",
   "execution_count": 41,
   "metadata": {},
   "outputs": [
    {
     "name": "stdout",
     "output_type": "stream",
     "text": [
      "Fitting 5 folds for each of 50 candidates, totalling 250 fits\n"
     ]
    },
    {
     "name": "stderr",
     "output_type": "stream",
     "text": [
      "[Parallel(n_jobs=-1)]: Using backend LokyBackend with 8 concurrent workers.\n",
      "[Parallel(n_jobs=-1)]: Done  34 tasks      | elapsed:   56.8s\n",
      "[Parallel(n_jobs=-1)]: Done 184 tasks      | elapsed:  6.6min\n",
      "[Parallel(n_jobs=-1)]: Done 250 out of 250 | elapsed:  8.8min finished\n"
     ]
    },
    {
     "name": "stdout",
     "output_type": "stream",
     "text": [
      "Hyperparameter for Gradient Boosting Regressor with scaled data:\n",
      " {'learning_rate': 0.01, 'max_depth': 6, 'n_estimators': 1361, 'subsample': 0.75}\n"
     ]
    }
   ],
   "source": [
    "rs_gbr_scaled = rand_search_cv_gbr.fit(x_train_scaled, y_train)\n",
    "gbr_scaled_params = rs_gbr_scaled.best_params_\n",
    "print('Hyperparameter for Gradient Boosting Regressor with scaled data:\\n', gbr_scaled_params)"
   ]
  },
  {
   "cell_type": "code",
   "execution_count": 42,
   "metadata": {},
   "outputs": [
    {
     "name": "stdout",
     "output_type": "stream",
     "text": [
      "Fitting 5 folds for each of 50 candidates, totalling 250 fits\n"
     ]
    },
    {
     "name": "stderr",
     "output_type": "stream",
     "text": [
      "[Parallel(n_jobs=-1)]: Using backend LokyBackend with 8 concurrent workers.\n",
      "[Parallel(n_jobs=-1)]: Done  34 tasks      | elapsed:  1.1min\n",
      "[Parallel(n_jobs=-1)]: Done 184 tasks      | elapsed:  5.3min\n",
      "[Parallel(n_jobs=-1)]: Done 250 out of 250 | elapsed:  6.7min finished\n"
     ]
    },
    {
     "name": "stdout",
     "output_type": "stream",
     "text": [
      "Hyperparameter for Gradient Boosting RRegressor with base data:\n",
      " {'learning_rate': 0.01, 'max_depth': 6, 'n_estimators': 953, 'subsample': 0.75}\n"
     ]
    }
   ],
   "source": [
    "rs_gbr_base = rand_search_cv_gbr.fit(x_train, y_train)\n",
    "gbr_base_params = rs_gbr_base.best_params_\n",
    "print('Hyperparameter for Gradient Boosting RRegressor with base data:\\n', gbr_base_params)"
   ]
  },
  {
   "cell_type": "code",
   "execution_count": 43,
   "metadata": {},
   "outputs": [
    {
     "name": "stdout",
     "output_type": "stream",
     "text": [
      "Stored 'gbr_pca_params' (dict)\n",
      "Stored 'gbr_scaled_params' (dict)\n",
      "Stored 'gbr_base_params' (dict)\n"
     ]
    }
   ],
   "source": [
    "%store gbr_pca_params\n",
    "%store gbr_scaled_params\n",
    "%store gbr_base_params"
   ]
  },
  {
   "cell_type": "code",
   "execution_count": null,
   "metadata": {},
   "outputs": [],
   "source": []
  }
 ],
 "metadata": {
  "kernelspec": {
   "display_name": "Python 3",
   "language": "python",
   "name": "python3"
  },
  "language_info": {
   "codemirror_mode": {
    "name": "ipython",
    "version": 3
   },
   "file_extension": ".py",
   "mimetype": "text/x-python",
   "name": "python",
   "nbconvert_exporter": "python",
   "pygments_lexer": "ipython3",
   "version": "3.8.5"
  }
 },
 "nbformat": 4,
 "nbformat_minor": 4
}
